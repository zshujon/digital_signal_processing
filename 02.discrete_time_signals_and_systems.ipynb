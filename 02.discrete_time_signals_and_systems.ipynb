{
 "metadata": {
  "name": ""
 },
 "nbformat": 3,
 "nbformat_minor": 0,
 "worksheets": [
  {
   "cells": [
    {
     "cell_type": "heading",
     "level": 1,
     "metadata": {},
     "source": [
      "02. Discrete Time Signals and Syatems"
     ]
    },
    {
     "cell_type": "code",
     "collapsed": false,
     "input": [
      "import numpy as np\n",
      "import matplotlib.pylab as plt\n",
      "%matplotlib inline"
     ],
     "language": "python",
     "metadata": {},
     "outputs": [],
     "prompt_number": 9
    },
    {
     "cell_type": "code",
     "collapsed": false,
     "input": [
      "def imseq(n1, n2, n0):\n",
      "    n = np.array(range(n1, n2+1))\n",
      "    x = ((n - n0) == 0)\n",
      "    return n, x\n",
      "\n",
      "a, b = imseq(-9, 4, 0)\n",
      "p = plt.stem(a,b)"
     ],
     "language": "python",
     "metadata": {},
     "outputs": [
      {
       "metadata": {},
       "output_type": "display_data",
       "png": "[encoded data removed]",
       "text": [
        "<matplotlib.figure.Figure at 0x7f74993d7510>"
       ]
      }
     ],
     "prompt_number": 19
    },
    {
     "cell_type": "code",
     "collapsed": false,
     "input": [
      "def stepseq(n1, n2, n0):\n",
      "    n = np.array(range(n1, n2+1))\n",
      "    x = ((n - n0) >= 0)\n",
      "    return n, x\n",
      "\n",
      "a, b = stepseq(-9, 4, 0)\n",
      "p = plt.stem(a,b)"
     ],
     "language": "python",
     "metadata": {},
     "outputs": [
      {
       "metadata": {},
       "output_type": "display_data",
       "png": "[encoded data removed]",
       "text": [
        "<matplotlib.figure.Figure at 0x7f749938d9d0>"
       ]
      }
     ],
     "prompt_number": 20
    }
   ],
   "metadata": {}
  }
 ]
}